{
 "cells": [
  {
   "cell_type": "code",
   "execution_count": 3,
   "id": "64d5b30e",
   "metadata": {},
   "outputs": [],
   "source": [
    "# Read experiment output\n",
    "import csv\n",
    "\n",
    "# File format is \"bandwidth, num_viewers;\"\n",
    "def readFile(filename):\n",
    "    bandwidth = []\n",
    "    num_viewers = []\n",
    "    \n",
    "    # Open file and parse each number into lines\n",
    "    with open(filename, 'r') as file:\n",
    "      csvreader = csv.reader(file, delimiter=\",\")\n",
    "      for row in csvreader:\n",
    "        cols = [elem.strip().replace(';', '')  for elem in row]\n",
    "        bandwidth.append(int(cols[0]))\n",
    "        num_viewers.append(int(cols[1]))\n",
    "    \n",
    "    return bandwidth, num_viewers"
   ]
  },
  {
   "cell_type": "code",
   "execution_count": 5,
   "id": "b9c1d602",
   "metadata": {},
   "outputs": [],
   "source": [
    "from matplotlib import pyplot as plt\n",
    "\n",
    "def plot(x,y,title,xlabel,ylabel):\n",
    "  plt.scatter(x,y)\n",
    "  plt.xlabel(xlabel)\n",
    "  plt.title(title)\n",
    "  plt.ylabel(ylabel)\n",
    "  plt.show()"
   ]
  },
  {
   "cell_type": "code",
   "execution_count": 8,
   "id": "ef5ed699",
   "metadata": {},
   "outputs": [
    {
     "data": {
      "image/png": "[encoded data removed]",
      "text/plain": [
       "<Figure size 432x288 with 1 Axes>"
      ]
     },
     "metadata": {
      "needs_background": "light"
     },
     "output_type": "display_data"
    }
   ],
   "source": [
    "# Graph 1 - bbr\n",
    "# Bandwidth vs Number of Viewers\n",
    "bandwidth, num_viewers = [], []\n",
    "for i in range(1, 11):\n",
    "    fileName = \"./viewPerf_\" + str(i) + \"_bbr.txt\"\n",
    "    cur_bandwidth, cur_num_viewers = readFile(fileName)\n",
    "    bandwidth += cur_bandwidth\n",
    "    num_viewers += cur_num_viewers\n",
    "plot(bandwidth, num_viewers, \"Number of Viewers vs Bandwidth\", \"Bandwidth\", \"Number of Viewers\")"
   ]
  },
  {
   "cell_type": "code",
   "execution_count": 9,
   "id": "5abe5345",
   "metadata": {},
   "outputs": [
    {
     "name": "stdout",
     "output_type": "stream",
     "text": [
      "(26.612855700923056, 33.387144299076944)\n",
      "std of arr :  14.142135623730951\n"
     ]
    }
   ],
   "source": [
    "import numpy as np\n",
    "import scipy.stats as st\n",
    "\n",
    "# Create 90% confidence interval\n",
    "print(st.t.interval(alpha=0.90, df=len(bandwidth)-1, loc=np.mean(bandwidth), scale=st.sem(bandwidth))) \n",
    "print(\"std of arr : \", np.std(bandwidth)) "
   ]
  },
  {
   "cell_type": "markdown",
   "id": "bb2cba3b",
   "metadata": {},
   "source": [
    "There is a 90% chance that the confidence interval of [-16.569, 46.569] contains the true average."
   ]
  },
  {
   "cell_type": "code",
   "execution_count": 14,
   "id": "051c88f2",
   "metadata": {},
   "outputs": [
    {
     "data": {
      "image/png": "[encoded data removed]",
      "text/plain": [
       "<Figure size 432x288 with 1 Axes>"
      ]
     },
     "metadata": {
      "needs_background": "light"
     },
     "output_type": "display_data"
    }
   ],
   "source": [
    "# Graph 2 - cubic\n",
    "# Bandwidth vs Number of Viewers\n",
    "bandwidth, num_viewers = [], []\n",
    "for i in range(1, 11):\n",
    "    fileName = \"./viewPerf_\" + str(i) + \"_cubic.txt\"\n",
    "    cur_bandwidth, cur_num_viewers = readFile(fileName)\n",
    "    bandwidth += cur_bandwidth\n",
    "    num_viewers += cur_num_viewers\n",
    "plot(bandwidth, num_viewers, \"Number of Viewers vs Bandwidth\", \"Bandwidth\", \"Number of Viewers\")"
   ]
  },
  {
   "cell_type": "code",
   "execution_count": 11,
   "id": "61de4218",
   "metadata": {},
   "outputs": [
    {
     "name": "stdout",
     "output_type": "stream",
     "text": [
      "(26.612855700923056, 33.387144299076944)\n",
      "std of arr :  14.142135623730951\n"
     ]
    }
   ],
   "source": [
    "import numpy as np\n",
    "import scipy.stats as st\n",
    "\n",
    "# Create 90% confidence interval\n",
    "print(st.t.interval(alpha=0.90, df=len(bandwidth)-1, loc=np.mean(bandwidth), scale=st.sem(bandwidth))) \n",
    "print(\"std of arr : \", np.std(bandwidth)) "
   ]
  },
  {
   "cell_type": "code",
   "execution_count": 15,
   "id": "1e2031d1",
   "metadata": {},
   "outputs": [
    {
     "data": {
      "image/png": "[encoded data removed]",
      "text/plain": [
       "<Figure size 432x288 with 1 Axes>"
      ]
     },
     "metadata": {
      "needs_background": "light"
     },
     "output_type": "display_data"
    }
   ],
   "source": [
    "# Graph 3 - reno\n",
    "# Bandwidth vs Number of Viewers\n",
    "bandwidth, num_viewers = [], []\n",
    "for i in range(1, 11):\n",
    "    fileName = \"./viewPerf_\" + str(i) + \"_reno.txt\"\n",
    "    cur_bandwidth, cur_num_viewers = readFile(fileName)\n",
    "    bandwidth += cur_bandwidth\n",
    "    num_viewers += cur_num_viewers\n",
    "plot(bandwidth, num_viewers, \"Number of Viewers vs Bandwidth\", \"Bandwidth\", \"Number of Viewers\")"
   ]
  },
  {
   "cell_type": "code",
   "execution_count": 17,
   "id": "d5f03118",
   "metadata": {},
   "outputs": [
    {
     "name": "stdout",
     "output_type": "stream",
     "text": [
      "(26.612855700923056, 33.387144299076944)\n",
      "std of arr :  14.142135623730951\n"
     ]
    }
   ],
   "source": [
    "import numpy as np\n",
    "import scipy.stats as st\n",
    "\n",
    "# Create 90% confidence interval\n",
    "print(st.t.interval(alpha=0.90, df=len(bandwidth)-1, loc=np.mean(bandwidth), scale=st.sem(bandwidth))) \n",
    "print(\"std of arr : \", np.std(bandwidth)) "
   ]
  }
 ],
 "metadata": {
  "kernelspec": {
   "display_name": "Python 3",
   "language": "python",
   "name": "python3"
  },
  "language_info": {
   "codemirror_mode": {
    "name": "ipython",
    "version": 3
   },
   "file_extension": ".py",
   "mimetype": "text/x-python",
   "name": "python",
   "nbconvert_exporter": "python",
   "pygments_lexer": "ipython3",
   "version": "3.8.8"
  }
 },
 "nbformat": 4,
 "nbformat_minor": 5
}
